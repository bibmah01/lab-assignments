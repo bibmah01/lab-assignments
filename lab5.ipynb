{
 "cells": [
  {
   "cell_type": "markdown",
   "id": "2606415d-9143-43ee-9107-d937c924f780",
   "metadata": {},
   "source": [
    "# Recursion Assignment\n",
    "\n",
    "Solve the recursion  \n",
    "\\[\n",
    "f(n) = 7f(n-1) - 10f(n-2), f(0) = 1, f(1) = 3\n",
    "\\]\n",
    "\n",
    "1. Using mathematical method taught in class to get analytic equation.Type up details and program   function."
   ]
  },
  {
   "cell_type": "code",
   "execution_count": 26,
   "id": "cc130ca5-df2d-4df9-9c5a-268c22b020b4",
   "metadata": {},
   "outputs": [
    {
     "name": "stdout",
     "output_type": "stream",
     "text": [
      "1062.9999999999998\n"
     ]
    }
   ],
   "source": [
    "import math\n",
    "\n",
    "def f(n):\n",
    "    # Characteristic equation: r^2 - 7r + 10 = 0\n",
    "    # Roots are r1 = 5, r2 = 2\n",
    "    # So f(n) = A*5^n + B*2^n\n",
    "    # Using f(0) = 1 => A + B = 1\n",
    "    # Using f(1) = 3 => 5A + 2B = 3\n",
    "    # Solve for A and B\n",
    "    A = (3 - 2) / (5 - 2)   # i.e 1/3\n",
    "    B = 1 - A               # i.e 2/3\n",
    "    return A * (5**n) + B * (2**n)\n",
    "\n",
    "print(f(5))"
   ]
  },
  {
   "cell_type": "markdown",
   "id": "b208c648-9def-4df7-9d9b-dae626ce4e15",
   "metadata": {},
   "source": [
    "2. Using dynamic programming."
   ]
  },
  {
   "cell_type": "code",
   "execution_count": 24,
   "id": "b4dc3637-e076-473d-8720-7c5634aab4ed",
   "metadata": {},
   "outputs": [
    {
     "name": "stdout",
     "output_type": "stream",
     "text": [
      "1063\n"
     ]
    }
   ],
   "source": [
    "def f_dynamic(n):\n",
    "    if n == 0:\n",
    "        return 1\n",
    "    elif n == 1:\n",
    "        return 3\n",
    "    else:\n",
    "        a = 1\n",
    "        b = 3\n",
    "        for i in range(2, n + 1):\n",
    "            c = 7 * b - 10 * a\n",
    "            a, b = b, c\n",
    "        return b\n",
    "\n",
    "print(f_dynamic(5))"
   ]
  },
  {
   "cell_type": "markdown",
   "id": "8a9fb3f5-c1cf-4de3-8bb8-1ade10f3fe68",
   "metadata": {},
   "source": [
    "3. Using dynamic programming and memoization."
   ]
  },
  {
   "cell_type": "code",
   "execution_count": 21,
   "id": "11e3237b-2d99-4c56-9dbb-1a2aa7d01d5e",
   "metadata": {},
   "outputs": [
    {
     "name": "stdout",
     "output_type": "stream",
     "text": [
      "[1, 3, 11, 47, 219, 1063]\n"
     ]
    }
   ],
   "source": [
    "def f_memo(n):\n",
    "    if n == 0:\n",
    "        return 1\n",
    "    elif n == 1:\n",
    "        return 3\n",
    "    else:\n",
    "        l = [0] * (n + 1)\n",
    "        l[0] = 1\n",
    "        l[1] = 3\n",
    "        for i in range(2, n + 1):\n",
    "            l[i] = 7 * l[i - 1] - 10 * l[i - 2]\n",
    "        return l\n",
    "\n",
    "print(f_memo(5))\n"
   ]
  },
  {
   "cell_type": "markdown",
   "id": "95566858-833c-4c4e-b195-15a584e0b3a7",
   "metadata": {},
   "source": [
    "4. Compare the results of each function.Discuss the advantages and disadvantages of each method. Consider difficulty of solving and the time it would take to get the 1000 entry of the sequence in each of the three solutions."
   ]
  },
  {
   "cell_type": "markdown",
   "id": "f41a67dc-77c4-4435-a93f-59a66c506441",
   "metadata": {},
   "source": [
    "The analytic method is the fastest and most efficient for finding the 1000th term because it uses a direct mathematical formula, requiring only a few arithmetic operations regardless of how large `n` is. However, deriving this closed-form solution involves solving the characteristic equation, which can be mathematically challenging. The dynamic programming approach is easier to implement and conceptually straightforward, but it requires computing all previous terms up to the 1000th, which takes linear time and moderate memory. The memoization method simplifies reasoning through recursion and stores previous results to avoid repeated calculations, but it still involves recursive function calls that make it slower and less efficient for very large `n`. Overall, the analytic method is most time-efficient, while the dynamic method offers a good balance between simplicity and performance."
   ]
  }
 ],
 "metadata": {
  "kernelspec": {
   "display_name": "Python [conda env:base] *",
   "language": "python",
   "name": "conda-base-py"
  },
  "language_info": {
   "codemirror_mode": {
    "name": "ipython",
    "version": 3
   },
   "file_extension": ".py",
   "mimetype": "text/x-python",
   "name": "python",
   "nbconvert_exporter": "python",
   "pygments_lexer": "ipython3",
   "version": "3.13.5"
  }
 },
 "nbformat": 4,
 "nbformat_minor": 5
}
