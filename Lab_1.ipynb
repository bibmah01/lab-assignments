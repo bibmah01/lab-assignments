{
 "cells": [
  {
   "cell_type": "markdown",
   "id": "efb08b4e-f546-45c7-99b0-85ee31909f5d",
   "metadata": {},
   "source": [
    "# Getting Started With Python an Assignment\n",
    "## Taxes\n",
    "U.S. uses a progressive tax system. Using the 2023 data provided below, write a function that will compute the total tax properly.\n",
    "\n",
    "### Function to calculate the taxes "
   ]
  },
  {
   "cell_type": "code",
   "execution_count": 7,
   "id": "bfe77f33-909b-4fe9-a384-55ac698ce1ac",
   "metadata": {},
   "outputs": [
    {
     "name": "stdout",
     "output_type": "stream",
     "text": [
      "200.0\n",
      "2180.0\n",
      "17400.0\n",
      "182332.0\n"
     ]
    }
   ],
   "source": [
    "def compute_tax(income):\n",
    "    \n",
    "    if income <= 0:\n",
    "        return 0\n",
    "\n",
    "    if income <= 11000:\n",
    "        return 0.10 * income\n",
    "    elif income <= 44725:\n",
    "        return 1100 + 0.12 * (income - 11000)\n",
    "    elif income <= 95375:\n",
    "        return 5147 + 0.22 * (income - 44725)\n",
    "    elif income <= 182100:\n",
    "        return 16290 + 0.24 * (income - 95375)\n",
    "    elif income <= 231250:\n",
    "        return 37104 + 0.32 * (income - 182100)\n",
    "    elif income <= 578125:\n",
    "        return 52832 + 0.35 * (income - 231250)\n",
    "    else:\n",
    "        return 174238.25 + 0.37 * (income - 578125)\n",
    "\n",
    "\n",
    "# Some examples\n",
    "print(compute_tax(5000))    \n",
    "print(compute_tax(20000)) \n",
    "print(compute_tax(100000)) \n",
    "print(compute_tax(600000))   \n"
   ]
  },
  {
   "cell_type": "markdown",
   "id": "38b854c6-49f6-4829-a15b-fe71dab14382",
   "metadata": {},
   "source": [
    "# Lists\n",
    "Perhaps the greatest strength of python is iterating over lists. Use the difference formula of calculus to show that the derivative of ln(x) at 1 is 1.\n",
    "\n",
    "In other words show that as h gets smaller and smaller \n",
    "$\\frac{\\ln(1+h) - \\ln(1)}{h} = 1$ approaches 1.\n",
    "\n",
    "Mathematically we write this as\n",
    "$\\lim_{h \\to 0} \\frac{\\ln(1+h) - \\ln(1)}{h} = 1$\n",
    " \n",
    "Use the list provided below.\n",
    "\n",
    "Extra challenge: Use the sympy package to compute the limit and derivative."
   ]
  },
  {
   "cell_type": "code",
   "execution_count": 24,
   "id": "28724382-ad92-4372-bd30-15acf7de45fd",
   "metadata": {},
   "outputs": [
    {
     "name": "stdout",
     "output_type": "stream",
     "text": [
      "h=1 -> 0.6931471805599453\n",
      "h=0.1 -> 0.9531017980432493\n",
      "h=0.001 -> 0.9995003330834232\n",
      "h=0.002 -> 0.9990013313365289\n",
      "h=0.0001 -> 0.9999500033329731\n",
      "h=1e-10 -> 1.000000082690371\n"
     ]
    }
   ],
   "source": [
    "import math\n",
    "\n",
    "h = [1, 0.1, 0.001, 0.002, 0.0001, 0.0000000001]\n",
    "\n",
    "for i in h:\n",
    "    derivative_approx = math.log(1 + i) / i\n",
    "    print(f\"h={i} -> {derivative_approx}\")\n"
   ]
  },
  {
   "cell_type": "markdown",
   "id": "1c39c1ed-a9c2-4b55-8be2-a1de788e5c4a",
   "metadata": {},
   "source": [
    "### Calculating limit and derivative using sympy"
   ]
  },
  {
   "cell_type": "code",
   "execution_count": 23,
   "id": "3609dc6e-e744-4068-bfa0-ab697b159f05",
   "metadata": {},
   "outputs": [
    {
     "name": "stdout",
     "output_type": "stream",
     "text": [
      "Limit: 1\n",
      "Derivative at x=1: 1\n"
     ]
    }
   ],
   "source": [
    "import sympy as sp\n",
    "\n",
    "h = sp.symbols('h')\n",
    "expr = sp.log(1 + h) / h\n",
    "\n",
    "# Calculating the limit as h → 0\n",
    "limit_result = sp.limit(expr, h, 0)\n",
    "print(\"Limit:\", limit_result)\n",
    "\n",
    "# Directly calculating derivative of ln(x) at x=1\n",
    "x = sp.symbols('x')\n",
    "f = sp.log(x)\n",
    "derivative_at_1 = sp.diff(f, x).subs(x, 1)\n",
    "print(\"Derivative at x=1:\", derivative_at_1)"
   ]
  },
  {
   "cell_type": "markdown",
   "id": "599739f3-a118-4c35-9ce5-2ddbf6c3f4e0",
   "metadata": {},
   "source": [
    "# Truth of Summation\n",
    "Verify the following summation formula using python for all n where $n \\in \\mathbb{Z}$ and n <= 1000.\n",
    "                                   \n",
    "$$\n",
    "\\sum_{i=0}^n i^3 = \\left(\\frac{n(n+1)}{2}\\right)^2\n",
    "$$\n",
    " \n",
    "             \n",
    "Extra challenge: Reduce the output to a single true or false. Do not attempt until original has been verified with a clean code."
   ]
  },
  {
   "cell_type": "code",
   "execution_count": 21,
   "id": "e18594f5-4d6e-4537-8651-1a0cf858ec85",
   "metadata": {},
   "outputs": [
    {
     "name": "stdout",
     "output_type": "stream",
     "text": [
      "1 True\n",
      "2 True\n",
      "3 True\n",
      "4 True\n",
      "5 True\n",
      "6 True\n",
      "7 True\n",
      "8 True\n",
      "9 True\n",
      "10 True\n"
     ]
    }
   ],
   "source": [
    "def verify_sum_of_cubes(limit = 1000):\n",
    "    for n in range(limit + 1):\n",
    "        lhs = sum(i**3 for i in range(n + 1))  # left-hand side equation \n",
    "        rhs = (n * (n + 1) // 2) ** 2          # right-hand side equation\n",
    "        if lhs != rhs:\n",
    "            return False\n",
    "    return True \n",
    "\n",
    "print(verify_sum_of_cubes())\n"
   ]
  }
 ],
 "metadata": {
  "kernelspec": {
   "display_name": "Python [conda env:base] *",
   "language": "python",
   "name": "conda-base-py"
  },
  "language_info": {
   "codemirror_mode": {
    "name": "ipython",
    "version": 3
   },
   "file_extension": ".py",
   "mimetype": "text/x-python",
   "name": "python",
   "nbconvert_exporter": "python",
   "pygments_lexer": "ipython3",
   "version": "3.13.5"
  }
 },
 "nbformat": 4,
 "nbformat_minor": 5
}
