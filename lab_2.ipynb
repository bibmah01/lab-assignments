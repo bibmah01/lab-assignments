{
 "cells": [
  {
   "cell_type": "markdown",
   "id": "a6a42ac2-6772-4af3-8290-d517dd7d87b1",
   "metadata": {},
   "source": [
    "# Problem Solving\n",
    "## Factorials\n",
    "A factorial is the product of all previous numbers and is expressed with an exclamation \n",
    "!. Thus\n",
    "$$3! = 3 \\times 2 \\times 1 = 6$$\n",
    "and\n",
    "$$n! = n(n-1)(n-2) \\cdots 3\\cdot 2\\cdot 1$$\n",
    "How many zeros does 1000!end with? Please do not count them in the number below as the precision may be off!\n",
    "The number of trailing zeros in a factorial comes from factors of 10, which are produced by multiplying factors of 2 and 5. Since there are always more factors of 2, we just count the factors of 5.\n",
    "Using Legendre's formula:\n",
    "$$ Number  of zeros = (1000/5) + (1000/25) + (1000/125) + (1000/625)$$\n",
    "$$ Number  of zeros = 200 + 40 + 8 + 1 = 249 $$\n",
    "The numbe rof zeros 1000! ends with is 249.\n"
   ]
  },
  {
   "cell_type": "code",
   "execution_count": 1,
   "id": "60d807db-7563-47e4-a448-2964cfa11cb0",
   "metadata": {},
   "outputs": [
    {
     "data": {
      "text/plain": [
       "402387260077093773543702433923003985719374864210714632543799910429938512398629020592044208486969404800479988610197196058631666872994808558901323829669944590997424504087073759918823627727188732519779505950995276120874975462497043601418278094646496291056393887437886487337119181045825783647849977012476632889835955735432513185323958463075557409114262417474349347553428646576611667797396668820291207379143853719588249808126867838374559731746136085379534524221586593201928090878297308431392844403281231558611036976801357304216168747609675871348312025478589320767169132448426236131412508780208000261683151027341827977704784635868170164365024153691398281264810213092761244896359928705114964975419909342221566832572080821333186116811553615836546984046708975602900950537616475847728421889679646244945160765353408198901385442487984959953319101723355556602139450399736280750137837615307127761926849034352625200015888535147331611702103968175921510907788019393178114194545257223865541461062892187960223838971476088506276862967146674697562911234082439208160153780889893964518263243671616762179168909779911903754031274622289988005195444414282012187361745992642956581746628302955570299024324153181617210465832036786906117260158783520751516284225540265170483304226143974286933061690897968482590125458327168226458066526769958652682272807075781391858178889652208164348344825993266043367660176999612831860788386150279465955131156552036093988180612138558600301435694527224206344631797460594682573103790084024432438465657245014402821885252470935190620929023136493273497565513958720559654228749774011413346962715422845862377387538230483865688976461927383814900140767310446640259899490222221765904339901886018566526485061799702356193897017860040811889729918311021171229845901641921068884387121855646124960798722908519296819372388642614839657382291123125024186649353143970137428531926649875337218940694281434118520158014123344828015051399694290153483077644569099073152433278288269864602789864321139083506217095002597389863554277196742822248757586765752344220207573630569498825087968928162753848863396909959826280956121450994871701244516461260379029309120889086942028510640182154399457156805941872748998094254742173582401063677404595741785160829230135358081840096996372524230560855903700624271243416909004153690105933983835777939410970027753472000000000000000000000000000000000000000000000000000000000000000000000000000000000000000000000000000000000000000000000000000000000000000000000000000000000000000000000000000000000000000000000000000000000000000000000000000000000000000000000000000000000"
      ]
     },
     "execution_count": 1,
     "metadata": {},
     "output_type": "execute_result"
    }
   ],
   "source": [
    "import math\n",
    "\n",
    "math.factorial(1000)"
   ]
  },
  {
   "cell_type": "markdown",
   "id": "f1834953-f548-414d-a065-1d0e53601137",
   "metadata": {},
   "source": [
    "# Big Numbers\n",
    "The sum of the digits of the number $100**{13} - 26$ is how much?\n",
    "\n",
    "Here is how I thought to approach the problem..."
   ]
  },
  {
   "cell_type": "code",
   "execution_count": 2,
   "id": "57ba57ec-dfe8-4974-a5a8-9a99b970ae70",
   "metadata": {},
   "outputs": [
    {
     "name": "stdout",
     "output_type": "stream",
     "text": [
      "227\n"
     ]
    }
   ],
   "source": [
    "x = str(100**13 - 26)\n",
    "\n",
    "digits = [int(d) for d in x]\n",
    "digit_sum = sum(digits)\n",
    "\n",
    "print(digit_sum)"
   ]
  },
  {
   "cell_type": "markdown",
   "id": "b7874e36-5a7b-4e2f-8089-6c4f011ac43a",
   "metadata": {},
   "source": [
    "# Handshakes\n",
    "Two soccer teams have just finished their game. The two teams of 11 all shake hands and the winning team also shakes hand with each other. How many handshakes have occured?\n",
    "\n",
    "The handshake between two teams would be 11*11, i.e. 121.\n",
    "For the handshake within winning team, i will use combination formula:\n",
    "$$(11, 2) = 11(11-1)//2 = 55$$\n",
    "\n",
    "Total Handshakes = 176"
   ]
  },
  {
   "cell_type": "markdown",
   "id": "0bd1e388-10dc-4276-9b54-5f0b58d4dd04",
   "metadata": {},
   "source": [
    "# Harder Handshakes\n",
    "Mr. Smith and his wife invited four other couples for a dinner party. When everyone arrived, handshakes were exchanged with some of the others. Of course no one shook hands with their spouse and nobody shook hands with the same person twice.\n",
    "\n",
    "Mr. Smith asked everyone how many times they shook hands. He recieved a different answer from each person.\n",
    "Ans: So he gets 9 answers that must range from 0-8.\n",
    "\n",
    "How many times did Mr. Smith shake hands?\n",
    "Ans: He did 4 handshakes."
   ]
  },
  {
   "cell_type": "code",
   "execution_count": 3,
   "id": "9ad66e88-06fb-4be1-ad52-9b36ce136765",
   "metadata": {},
   "outputs": [
    {
     "name": "stdout",
     "output_type": "stream",
     "text": [
      "Handshake pairs: [(0, 8), (1, 7), (2, 6), (3, 5)]\n",
      "Used handshake counts: {0, 1, 2, 3, 5, 6, 7, 8}\n",
      "Missing count that belongs to Mr. Smith and his spouse: {4}\n",
      "Mr. Smith shook 4 hands.\n"
     ]
    }
   ],
   "source": [
    "def handshakes():\n",
    "    pairs = [(0,8),(1,7),(2,6),(3,5)]\n",
    "    print(\"Handshake pairs:\", pairs)\n",
    "\n",
    "    # 8 numbers that come from 4 couples Mr. Smith asked\n",
    "    used = {0,1,2,3,5,6,7,8}\n",
    "    print(\"Used handshake counts:\", used)\n",
    "\n",
    "    # Out of 0-8, the only number not paired yet is 4\n",
    "    # Mr.Smith can get 9 answer so range is 9\n",
    "    missing = set(range(9)) - used  \n",
    "    print(\"Missing count that belongs to Mr. Smith and his spouse:\", missing)\n",
    "\n",
    "    return list(missing)[0]\n",
    "\n",
    "print(\"Mr. Smith shook\", handshakes(), \"hands.\")\n"
   ]
  }
 ],
 "metadata": {
  "kernelspec": {
   "display_name": "Python [conda env:base] *",
   "language": "python",
   "name": "conda-base-py"
  },
  "language_info": {
   "codemirror_mode": {
    "name": "ipython",
    "version": 3
   },
   "file_extension": ".py",
   "mimetype": "text/x-python",
   "name": "python",
   "nbconvert_exporter": "python",
   "pygments_lexer": "ipython3",
   "version": "3.13.5"
  }
 },
 "nbformat": 4,
 "nbformat_minor": 5
}
