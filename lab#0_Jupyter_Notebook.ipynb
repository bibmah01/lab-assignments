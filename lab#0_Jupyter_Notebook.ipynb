{
 "cells": [
  {
   "cell_type": "markdown",
   "id": "beae4b48-5217-4a96-bf35-f682bba3544f",
   "metadata": {},
   "source": [
    "# Jupyter Notebook Assignment\n",
    "\n",
    "Name: Bibek Kumar Mahato\n",
    "Course: Operation Reasearch (CMPSC-3933-01)\n",
    "Assignment: LAB#0\n",
    "\n",
    "## 1. Favorite Function\n",
    "My favorite function is the square function because it's easy to understand and it forms the basis for a lot of important math like parabolas, physics equations, and optimization problems.\n",
    "\n",
    "## 2. Defining the fuction using python "
   ]
  },
  {
   "cell_type": "code",
   "execution_count": 1,
   "id": "1a2adef0-0ba7-44f5-95e0-4d31ffa5c518",
   "metadata": {},
   "outputs": [
    {
     "name": "stdout",
     "output_type": "stream",
     "text": [
      "4\n",
      "9\n",
      "0\n"
     ]
    }
   ],
   "source": [
    "def square(x):\n",
    "    return x ** 2\n",
    "\n",
    "# some examples of square function\n",
    "print(square(2))   # 4\n",
    "print(square(-3))  # 9\n",
    "print(square(0))   # 0"
   ]
  },
  {
   "cell_type": "markdown",
   "id": "7a591cd4-ee2d-441f-885c-1d2908fbe451",
   "metadata": {},
   "source": [
    "## 3. Creating a list with 10 values\n",
    "   I picked 10 numbers just by counting and mixing a few favorites repeating few of them for fun."
   ]
  },
  {
   "cell_type": "code",
   "execution_count": 4,
   "id": "9b3c5568-501c-45c5-a043-add22d207eb8",
   "metadata": {},
   "outputs": [
    {
     "name": "stdout",
     "output_type": "stream",
     "text": [
      "List of numbers: [1, 2, 3, 5, 8, 13, 21, 3, 5, 1]\n",
      "Sum: 62\n",
      "Min: 1\n",
      "Max: 21\n",
      "Average: 6.2\n"
     ]
    }
   ],
   "source": [
    "numbers = [1, 2, 3, 5, 8, 13, 21, 3, 5, 1]\n",
    "\n",
    "# Computing the sum, minimum, maximum and average of the numbers in above list. \n",
    "total = sum(numbers)\n",
    "minimum = min(numbers)\n",
    "maximum = max(numbers)\n",
    "average = total / len(numbers)\n",
    "\n",
    "# Print results\n",
    "print(\"List of numbers:\", numbers)\n",
    "print(\"Sum:\", total)\n",
    "print(\"Min:\", minimum)\n",
    "print(\"Max:\", maximum)\n",
    "print(\"Average:\", average)"
   ]
  }
 ],
 "metadata": {
  "kernelspec": {
   "display_name": "Python [conda env:base] *",
   "language": "python",
   "name": "conda-base-py"
  },
  "language_info": {
   "codemirror_mode": {
    "name": "ipython",
    "version": 3
   },
   "file_extension": ".py",
   "mimetype": "text/x-python",
   "name": "python",
   "nbconvert_exporter": "python",
   "pygments_lexer": "ipython3",
   "version": "3.13.5"
  }
 },
 "nbformat": 4,
 "nbformat_minor": 5
}
